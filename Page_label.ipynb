{
 "cells": [
  {
   "cell_type": "code",
   "execution_count": 2,
   "metadata": {},
   "outputs": [],
   "source": [
    "import re\n",
    "import pandas as pd\n",
    "\n",
    "# Web scrapping tool\n",
    "from bs4 import BeautifulSoup as soup \n",
    "import requests"
   ]
  },
  {
   "cell_type": "code",
   "execution_count": 3,
   "metadata": {},
   "outputs": [],
   "source": [
    "Make=[]\n",
    "Label=[]\n",
    "for car_data_value in tqdm(range(20000, 20091)): #Know by testing\n",
    "    url=\"https://www.cars.com/for-sale/searchresults.action/?dealerType=localOnly&mkId={}&page=1&perPage=20&rd=100&searchSource=GN_BREADCRUMB&sort=relevance&zc=77083\".format(car_data_value)\n",
    "    response = requests.get(url)\n",
    "    html_soup=soup(response.text, \"html.parser\")\n",
    "    name=html_soup.find(class_=\"breadcrumb facet\" )\n",
    "    if name==None:\n",
    "        pass\n",
    "    else:\n",
    "        name=html_soup.find(class_=\"breadcrumb facet\" )['data-dtm'].split(\"value\")[1]\n",
    "        word = \" \".join(re.findall(\"[a-zA-Z]+\", name))\n",
    "        Make.append(word)\n",
    "        Label.append(car_data_value)\n",
    "    tqdm._instances.clear()"
   ]
  },
  {
   "cell_type": "code",
   "execution_count": 7,
   "metadata": {},
   "outputs": [
    {
     "name": "stdout",
     "output_type": "stream",
     "text": [
      "(90, 2)\n"
     ]
    },
    {
     "data": {
      "text/html": [
       "<div>\n",
       "<style scoped>\n",
       "    .dataframe tbody tr th:only-of-type {\n",
       "        vertical-align: middle;\n",
       "    }\n",
       "\n",
       "    .dataframe tbody tr th {\n",
       "        vertical-align: top;\n",
       "    }\n",
       "\n",
       "    .dataframe thead th {\n",
       "        text-align: right;\n",
       "    }\n",
       "</style>\n",
       "<table border=\"1\" class=\"dataframe\">\n",
       "  <thead>\n",
       "    <tr style=\"text-align: right;\">\n",
       "      <th></th>\n",
       "      <th>Make</th>\n",
       "      <th>Label</th>\n",
       "    </tr>\n",
       "  </thead>\n",
       "  <tbody>\n",
       "    <tr>\n",
       "      <td>85</td>\n",
       "      <td>Studebaker</td>\n",
       "      <td>20086</td>\n",
       "    </tr>\n",
       "    <tr>\n",
       "      <td>86</td>\n",
       "      <td>Sunbeam</td>\n",
       "      <td>20087</td>\n",
       "    </tr>\n",
       "    <tr>\n",
       "      <td>87</td>\n",
       "      <td>Toyota</td>\n",
       "      <td>20088</td>\n",
       "    </tr>\n",
       "    <tr>\n",
       "      <td>88</td>\n",
       "      <td>Volkswagen</td>\n",
       "      <td>20089</td>\n",
       "    </tr>\n",
       "    <tr>\n",
       "      <td>89</td>\n",
       "      <td>Willys</td>\n",
       "      <td>20090</td>\n",
       "    </tr>\n",
       "  </tbody>\n",
       "</table>\n",
       "</div>"
      ],
      "text/plain": [
       "          Make  Label\n",
       "85  Studebaker  20086\n",
       "86     Sunbeam  20087\n",
       "87      Toyota  20088\n",
       "88  Volkswagen  20089\n",
       "89      Willys  20090"
      ]
     },
     "execution_count": 7,
     "metadata": {},
     "output_type": "execute_result"
    }
   ],
   "source": [
    "Make_page_label=pd.DataFrame({\"Make\":Make, \"Label\":Label})\n",
    "print(Make_page_label.shape)\n",
    "Make_page_label.tail()"
   ]
  },
  {
   "cell_type": "code",
   "execution_count": 8,
   "metadata": {},
   "outputs": [],
   "source": [
    "Make_page_label.to_csv(\"Output/Make_label.csv\",index=False)"
   ]
  },
  {
   "cell_type": "code",
   "execution_count": null,
   "metadata": {},
   "outputs": [],
   "source": []
  }
 ],
 "metadata": {
  "kernelspec": {
   "display_name": "Python 3",
   "language": "python",
   "name": "python3"
  },
  "language_info": {
   "codemirror_mode": {
    "name": "ipython",
    "version": 3
   },
   "file_extension": ".py",
   "mimetype": "text/x-python",
   "name": "python",
   "nbconvert_exporter": "python",
   "pygments_lexer": "ipython3",
   "version": "3.7.4"
  }
 },
 "nbformat": 4,
 "nbformat_minor": 2
}
