{
 "cells": [
  {
   "cell_type": "code",
   "execution_count": 49,
   "metadata": {},
   "outputs": [],
   "source": [
    "from bs4 import BeautifulSoup as soup # Web scrapping\n",
    "import pandas as pd\n",
    "import requests\n",
    "import numpy as np\n",
    "import math #for ceil\n",
    "import time \n",
    "import random\n",
    "from tqdm import tqdm # Progression bar\n",
    "import re #regular expression\n",
    "from difflib import SequenceMatcher #compare similarity between 2 string\n",
    "import glob, os #To read folder name\n"
   ]
  },
  {
   "cell_type": "code",
   "execution_count": 63,
   "metadata": {},
   "outputs": [
    {
     "data": {
      "text/html": [
       "<div>\n",
       "<style scoped>\n",
       "    .dataframe tbody tr th:only-of-type {\n",
       "        vertical-align: middle;\n",
       "    }\n",
       "\n",
       "    .dataframe tbody tr th {\n",
       "        vertical-align: top;\n",
       "    }\n",
       "\n",
       "    .dataframe thead th {\n",
       "        text-align: right;\n",
       "    }\n",
       "</style>\n",
       "<table border=\"1\" class=\"dataframe\">\n",
       "  <thead>\n",
       "    <tr style=\"text-align: right;\">\n",
       "      <th></th>\n",
       "      <th>Make</th>\n",
       "      <th>Label</th>\n",
       "    </tr>\n",
       "  </thead>\n",
       "  <tbody>\n",
       "    <tr>\n",
       "      <td>0</td>\n",
       "      <td>Acura</td>\n",
       "      <td>20001</td>\n",
       "    </tr>\n",
       "    <tr>\n",
       "      <td>1</td>\n",
       "      <td>Am General</td>\n",
       "      <td>20002</td>\n",
       "    </tr>\n",
       "    <tr>\n",
       "      <td>2</td>\n",
       "      <td>Aston Martin</td>\n",
       "      <td>20003</td>\n",
       "    </tr>\n",
       "    <tr>\n",
       "      <td>3</td>\n",
       "      <td>Austin Healey</td>\n",
       "      <td>20004</td>\n",
       "    </tr>\n",
       "    <tr>\n",
       "      <td>4</td>\n",
       "      <td>BMW</td>\n",
       "      <td>20005</td>\n",
       "    </tr>\n",
       "  </tbody>\n",
       "</table>\n",
       "</div>"
      ],
      "text/plain": [
       "            Make  Label\n",
       "0          Acura  20001\n",
       "1     Am General  20002\n",
       "2   Aston Martin  20003\n",
       "3  Austin Healey  20004\n",
       "4            BMW  20005"
      ]
     },
     "execution_count": 63,
     "metadata": {},
     "output_type": "execute_result"
    }
   ],
   "source": [
    "label=pd.read_csv(\"Output/Make_label.csv\")\n",
    "label.head()"
   ]
  },
  {
   "cell_type": "code",
   "execution_count": 3,
   "metadata": {},
   "outputs": [],
   "source": [
    "# Return the URL function\n",
    "def similar(a, b):\n",
    "    return SequenceMatcher(None, a, b).ratio()\n",
    "\n",
    "def get_url(input_):\n",
    "    make_index=np.argmax([similar(input_, i) for i in label.Make])\n",
    "    make=label.Make[make_index]\n",
    "    print(\"You choose {} with corresponding index {}\".format('\\033[1m'+make+'\\033[0m', label.Label[make_index]))\n",
    "    print(\"Now retrieving the data ...\")\n",
    "\n",
    "    url=(\"https://www.cars.com/for-sale/searchresults.action/\"\n",
    "    \"?dealerType=localOnly&mkId={}&page=1&perPage=100&rd=250\"\n",
    "    \"&searchSource=GN_BREADCRUMB&sort=relevance&zc=77083\").format(label.Label[make_index])\n",
    "    return url, make"
   ]
  },
  {
   "cell_type": "code",
   "execution_count": 4,
   "metadata": {},
   "outputs": [],
   "source": [
    "def retrieve_data(url,make):\n",
    "    names=[]\n",
    "    Condition=[]\n",
    "    mileages=[]\n",
    "    MSRP=[]\n",
    "    Prices=[]\n",
    "    Ext_color=[]\n",
    "    Int_color=[]\n",
    "    Tranmission=[]\n",
    "    Drivetrain=[]\n",
    "    Dealer_name=[]\n",
    "    Number_Review=[]\n",
    "    Rating=[]\n",
    "    List_Distance=[]\n",
    "    HTML=[]\n",
    "    \n",
    "    response = requests.get(url)\n",
    "    html_soup=soup(response.text, \"html.parser\")\n",
    "    results=int(html_soup.find_all(class_='filter-count')[0].text.replace(\",\",\"\"))\n",
    "    num_page=math.ceil(results/100)\n",
    "    \n",
    "    for page_num in tqdm(range(1,num_page+1)):\n",
    "        url_new=url.replace(\"page=1\",\"page={}\".format(page_num))\n",
    "\n",
    "        response = requests.get(url_new)\n",
    "        html_soup=soup(response.text, \"html.parser\")\n",
    "\n",
    "        for index, item in enumerate(html_soup.find_all(class_=\"listing-row__details\")):\n",
    "            \n",
    "            #Get car name (Always available)\n",
    "            car_name=item.find(class_=\"listing-row__title\").string.strip() #Strip remove space beginning and end\n",
    "            names.append(car_name)\n",
    "            \n",
    "            #Get car condition\n",
    "            car_cond=item.find(class_=\"listing-row__stocktype\") #Strip remove space beginning and end\n",
    "\n",
    "            if car_cond.string==None:\n",
    "                car_cond=item.find(class_=\"listing-row__stocktype-cpo\")\n",
    "                if car_cond.string==None:\n",
    "                    Condition.append(\"NA\")\n",
    "                else:\n",
    "                    Condition.append(car_cond.string.strip())\n",
    "            else:\n",
    "                Condition.append(car_cond.string.strip())\n",
    "\n",
    "            #Get mileage (Not always available)\n",
    "            car_mileage=item.find(class_=\"listing-row__mileage\")\n",
    "            if car_mileage==None:\n",
    "                mileages.append(0)\n",
    "            else:\n",
    "                car_mileage=car_mileage.string.strip().split()[0].replace(\",\",\"\")\n",
    "                try:\n",
    "                    car_mileage=int(car_mileage)\n",
    "                except:\n",
    "                    car_mileage=0\n",
    "                mileages.append(car_mileage)\n",
    "\n",
    "            #Get car MSRP\n",
    "            car_MSRP=item.find(class_=\"listing-row__msrp\")\n",
    "            if car_MSRP==None:\n",
    "                MSRP.append(0)\n",
    "            else:\n",
    "                car_MSRP=car_MSRP.string.strip()[6:].replace(\",\",\"\")\n",
    "                try:\n",
    "                    car_MSRP=int(car_MSRP)\n",
    "                except:\n",
    "                    car_MSRP=0\n",
    "                MSRP.append(car_MSRP)\n",
    "\n",
    "            #Get car price\n",
    "            car_price=item.find(class_=\"listing-row__price\")\n",
    "            if (car_price.string==None) or (\"Not\" in car_price.string):\n",
    "                Prices.append(0)\n",
    "            else:\n",
    "                car_price=car_price.string.split()[0].replace('$',\"\").replace(',',\"\")\n",
    "                try:\n",
    "                    car_price=int(car_price)\n",
    "                except:\n",
    "                    car_price=0\n",
    "                Prices.append(car_price)\n",
    "\n",
    "            #Get car Ext_color, Int_color, Tranmission, Drivetrain\n",
    "            Ext_color.append(item.find_all('li')[0].text.strip().split()[2])\n",
    "            Int_color.append(item.find_all('li')[1].text.strip().split()[2])\n",
    "            Tranmission.append(item.find_all('li')[2].text.strip().split()[1])\n",
    "            Drivetrain.append(item.find_all('li')[3].text.strip().split()[1])\n",
    "\n",
    "            #Get dealer name, number of review, rating, distance\n",
    "            Dealer_name.append(item.find(class_=\"dealer-name\").find(\"span\").string)\n",
    "\n",
    "            #Number of review\n",
    "            car_number_review=item.find(class_=\"listing-row__review-number\")\n",
    "            if car_number_review==None:\n",
    "                Number_Review.append(0)\n",
    "            else:\n",
    "                car_number_review=car_number_review.text\n",
    "                car_number_review=re.findall(r'\\d+', car_number_review)\n",
    "                car_number_review=car_number_review[0]\n",
    "                try:\n",
    "                    car_number_review=int(car_number_review)\n",
    "                except:\n",
    "                    car_number_review=0\n",
    "                Number_Review.append(car_number_review)\n",
    "                \n",
    "            #Rating\n",
    "            car_rating=item.find(class_=\"dealer-rating-stars\")\n",
    "            if car_rating==None:\n",
    "                Rating.append(0)\n",
    "            else:\n",
    "                car_rating=car_rating.text.replace(\"\\n\",\"\").split()[0]\n",
    "                try:\n",
    "                    car_rating=float(car_rating)\n",
    "                except:\n",
    "                    car_rating=0\n",
    "                Rating.append(car_rating)\n",
    "\n",
    "            #Listing Distance\n",
    "            car_distance=item.find(class_=\"listing-row__distance\")\n",
    "            if car_distance==None:\n",
    "                List_Distance.append(0)\n",
    "            else:\n",
    "                car_distance=car_distance.text.split()[0]\n",
    "                try:\n",
    "                    car_distance=float(car_distance)\n",
    "                except:\n",
    "                    car_distance=0\n",
    "                List_Distance.append(car_distance)\n",
    "            \n",
    "            #Link\n",
    "            html_tail=item.find(class_=\"listing-row__compare-button checkbox\").input['data-compare-url']\n",
    "            HTML.append(\"cars.com\"+html_tail)\n",
    "            \n",
    "            tqdm._instances.clear() #Only allow 1 progression bar\n",
    "            \n",
    "    df=pd.DataFrame({})\n",
    "    df[\"Year\"]=[i[:5] for i in names]\n",
    "    df[\"Make\"]=[make for i in names]\n",
    "    df[\"Model\"]=[i.replace(df.Year[index], \"\").replace(df.Make[index], \"\").strip() for index, i in enumerate(names)]\n",
    "    df['Condition']=Condition\n",
    "    df[\"Mileage\"]=mileages\n",
    "    df[\"MSRP\"]=MSRP\n",
    "    df[\"Ext_color\"]=Ext_color\n",
    "    df[\"Int_color\"]=Int_color\n",
    "    df[\"Tranmission\"]=Tranmission\n",
    "    df[\"Drivetrain\"]=Drivetrain\n",
    "    df[\"Dealer_name\"]=Dealer_name\n",
    "    df[\"Number_Review\"]=Number_Review\n",
    "    df[\"Rating\"]=Rating\n",
    "    df[\"List_Distance\"]=List_Distance\n",
    "    df[\"Price\"]=Prices\n",
    "    df[\"HTML\"]=HTML\n",
    "    return df"
   ]
  },
  {
   "cell_type": "code",
   "execution_count": 5,
   "metadata": {},
   "outputs": [],
   "source": [
    "#Test\n",
    "\n",
    "# url, make=get_url(\"Acura\")\n",
    "# url='https://www.cars.com/for-sale/searchresults.action/?dealerType=localOnly&mkId=20001&page=27&perPage=100&rd=250&searchSource=GN_BREADCRUMB&sort=relevance&zc=77083'\n",
    "# response = requests.get(url)\n",
    "# html_soup=soup(response.text, \"html.parser\")\n",
    "# for foo in html_soup.find_all(class_=\"listing-row__details\"):\n",
    "#     a=foo.find(class_=\"listing-row__mileage\")\n",
    "#     if a== None:\n",
    "#         pass\n",
    "#     else:\n",
    "#         print(a.string.strip().split()[0].replace(\",\",\"\"))\n",
    "\n",
    "# url, make=get_url(\"Am General\")\n",
    "# df=retrieve_data(url,make)"
   ]
  },
  {
   "cell_type": "code",
   "execution_count": 65,
   "metadata": {},
   "outputs": [],
   "source": [
    "def get_all_data():\n",
    "\n",
    "    for i in range(88,len(label)):\n",
    "        car_make=label.Make[i]\n",
    "        url,make=get_url(car_make)\n",
    "        try:\n",
    "            df=retrieve_data(url,make)\n",
    "            df.to_csv(\"Output/Car_data/{}.csv\".format(make), index=False)\n",
    "        except:\n",
    "            print(\"SKIP \", car_make)\n",
    "        \n",
    "        time.sleep(random.random()*3) #Avoid getting caught LOL\n",
    "        \n",
    "    return "
   ]
  },
  {
   "cell_type": "code",
   "execution_count": 58,
   "metadata": {},
   "outputs": [],
   "source": [
    "def create_meta_source():\n",
    "    parent_dir = \"Output/Car_data/\"\n",
    "    results = [os.path.basename(f) for f in glob.glob(os.path.join(parent_dir, '*.csv'))]\n",
    "    print(len(results))\n",
    "\n",
    "    meta_df=pd.DataFrame({})\n",
    "    for i in results:\n",
    "        if i != \"meta_df.csv\":\n",
    "            df=pd.read_csv(parent_dir+i)\n",
    "            meta_df=pd.concat([meta_df,df], ignore_index=True)\n",
    "\n",
    "    meta_df.to_csv(\"Output/Car_data/meta_df.csv\", index=False)\n",
    "    return meta_df"
   ]
  },
  {
   "cell_type": "code",
   "execution_count": 66,
   "metadata": {
    "scrolled": true
   },
   "outputs": [
    {
     "name": "stdout",
     "output_type": "stream",
     "text": [
      "You choose Volkswagen with corresponding index 20089\n",
      "Now retrieving the data ...\n"
     ]
    },
    {
     "name": "stderr",
     "output_type": "stream",
     "text": [
      "100%|██████████| 54/54 [01:37<00:00,  1.81s/it]\n"
     ]
    },
    {
     "name": "stdout",
     "output_type": "stream",
     "text": [
      "You choose Willys with corresponding index 20090\n",
      "Now retrieving the data ...\n"
     ]
    },
    {
     "name": "stderr",
     "output_type": "stream",
     "text": [
      "100%|██████████| 1/1 [00:00<00:00,  2.20it/s]\n"
     ]
    },
    {
     "name": "stdout",
     "output_type": "stream",
     "text": [
      "Wall time: 1min 43s\n"
     ]
    }
   ],
   "source": [
    "%%time\n",
    "get_all_data()"
   ]
  },
  {
   "cell_type": "code",
   "execution_count": 67,
   "metadata": {},
   "outputs": [
    {
     "name": "stdout",
     "output_type": "stream",
     "text": [
      "77\n"
     ]
    }
   ],
   "source": [
    "df=create_meta_source()"
   ]
  },
  {
   "cell_type": "code",
   "execution_count": 68,
   "metadata": {},
   "outputs": [
    {
     "data": {
      "text/plain": [
       "(283086, 16)"
      ]
     },
     "execution_count": 68,
     "metadata": {},
     "output_type": "execute_result"
    }
   ],
   "source": [
    "df.head()"
   ]
  }
 ],
 "metadata": {
  "kernelspec": {
   "display_name": "Python 3",
   "language": "python",
   "name": "python3"
  },
  "language_info": {
   "codemirror_mode": {
    "name": "ipython",
    "version": 3
   },
   "file_extension": ".py",
   "mimetype": "text/x-python",
   "name": "python",
   "nbconvert_exporter": "python",
   "pygments_lexer": "ipython3",
   "version": "3.7.4"
  }
 },
 "nbformat": 4,
 "nbformat_minor": 2
}
